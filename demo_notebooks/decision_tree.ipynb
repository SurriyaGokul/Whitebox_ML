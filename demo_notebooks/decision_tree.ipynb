{
 "cells": [
  {
   "cell_type": "code",
   "execution_count": null,
   "id": "fe5f8f9b",
   "metadata": {},
   "outputs": [],
   "source": [
    "import pandas as pd\n",
    "import numpy as np\n",
    "from tree.decision_tree import DecisionTree   "
   ]
  },
  {
   "cell_type": "code",
   "execution_count": 2,
   "id": "3006c872",
   "metadata": {},
   "outputs": [],
   "source": [
    "# Sample dataset\n",
    "data = {\n",
    "    \"age\": [25, 30, 45, 35, 22, 40, 29, 50],\n",
    "    \"income\": [\"high\", \"medium\", \"high\", \"low\", \"low\", \"medium\", \"high\", \"low\"],\n",
    "    \"student\": [\"no\", \"no\", \"yes\", \"yes\", \"yes\", \"no\", \"yes\", \"no\"],\n",
    "    \"buys_computer\": [\"no\", \"no\", \"yes\", \"yes\", \"yes\", \"no\", \"yes\", \"no\"]\n",
    "}\n",
    "df = pd.DataFrame(data)\n",
    "\n",
    "X = df.drop(columns=\"buys_computer\")\n",
    "y = df[\"buys_computer\"]"
   ]
  },
  {
   "cell_type": "code",
   "execution_count": 3,
   "id": "f1512bb8",
   "metadata": {},
   "outputs": [
    {
     "data": {
      "text/plain": [
       "<utils.Node.Node at 0x1a87ec89550>"
      ]
     },
     "execution_count": 3,
     "metadata": {},
     "output_type": "execute_result"
    }
   ],
   "source": [
    "tree = DecisionTree(\n",
    "    task=\"classification\",\n",
    "    metric=\"entropy\",\n",
    "    max_depth=3,\n",
    "    min_samples_split=2\n",
    ")\n",
    "tree.fit(X, y)"
   ]
  },
  {
   "cell_type": "code",
   "execution_count": 4,
   "id": "5d559120",
   "metadata": {},
   "outputs": [
    {
     "name": "stdout",
     "output_type": "stream",
     "text": [
      "Root feature: student\n",
      "Root split value: no\n",
      "Root type: categorical\n"
     ]
    }
   ],
   "source": [
    "# Simple root info\n",
    "print(\"Root feature:\", tree.tree.feature)\n",
    "print(\"Root split value:\", tree.tree.split_value)\n",
    "print(\"Root type:\", tree.tree.node_type)"
   ]
  },
  {
   "cell_type": "code",
   "execution_count": 5,
   "id": "1db8fa29",
   "metadata": {},
   "outputs": [
    {
     "name": "stdout",
     "output_type": "stream",
     "text": [
      "Predictions: ['yes', 'no']\n"
     ]
    }
   ],
   "source": [
    "# Example predict\n",
    "test_data = pd.DataFrame({\n",
    "    \"age\": [28, 44],\n",
    "    \"income\": [\"high\", \"low\"],\n",
    "    \"student\": [\"yes\", \"no\"]\n",
    "})\n",
    "preds = tree.predict(test_data)\n",
    "print(\"Predictions:\", preds)"
   ]
  }
 ],
 "metadata": {
  "kernelspec": {
   "display_name": "whitebox_ml",
   "language": "python",
   "name": "python3"
  },
  "language_info": {
   "codemirror_mode": {
    "name": "ipython",
    "version": 3
   },
   "file_extension": ".py",
   "mimetype": "text/x-python",
   "name": "python",
   "nbconvert_exporter": "python",
   "pygments_lexer": "ipython3",
   "version": "3.11.11"
  }
 },
 "nbformat": 4,
 "nbformat_minor": 5
}
